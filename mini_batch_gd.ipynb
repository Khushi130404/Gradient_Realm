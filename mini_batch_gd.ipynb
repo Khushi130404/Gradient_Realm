{
 "cells": [
  {
   "cell_type": "code",
   "execution_count": 32,
   "metadata": {},
   "outputs": [],
   "source": [
    "import numpy as np\n",
    "import random as rand\n",
    "from sklearn.model_selection import train_test_split\n",
    "from sklearn.metrics import r2_score\n",
    "from sklearn.linear_model import LinearRegression\n",
    "from sklearn.datasets import load_diabetes"
   ]
  },
  {
   "cell_type": "code",
   "execution_count": 33,
   "metadata": {},
   "outputs": [],
   "source": [
    "x,y = load_diabetes(return_X_y=True)"
   ]
  },
  {
   "cell_type": "code",
   "execution_count": 34,
   "metadata": {},
   "outputs": [],
   "source": [
    "x_train,x_test,y_train,y_test = train_test_split(x,y,test_size=0.2,random_state=2)"
   ]
  },
  {
   "cell_type": "code",
   "execution_count": 35,
   "metadata": {},
   "outputs": [
    {
     "data": {
      "text/plain": [
       "0.4399338661568969"
      ]
     },
     "execution_count": 35,
     "metadata": {},
     "output_type": "execute_result"
    }
   ],
   "source": [
    "li = LinearRegression()\n",
    "li.fit(x_train,y_train)\n",
    "y_pred = li.predict(x_test)\n",
    "r2_score(y_test,y_pred)"
   ]
  },
  {
   "cell_type": "code",
   "execution_count": 45,
   "metadata": {},
   "outputs": [
    {
     "name": "stdout",
     "output_type": "stream",
     "text": [
      "m = [  -9.15865318 -205.45432163  516.69374454  340.61999905 -895.5520019\n",
      "  561.22067904  153.89310954  126.73139688  861.12700152   52.42112238]\n",
      "b = 151.88331005254167\n"
     ]
    }
   ],
   "source": [
    "print(\"m =\",li.coef_)\n",
    "print(\"b =\",li.intercept_)"
   ]
  },
  {
   "cell_type": "code",
   "execution_count": 36,
   "metadata": {},
   "outputs": [],
   "source": [
    "class MyMiniBatchGD:\n",
    "\n",
    "    def __init__(self,mini_batch,lr,epoch):\n",
    "        self.m = None\n",
    "        self.b = None\n",
    "        self.lr = lr\n",
    "        self.batch_size = mini_batch\n",
    "        self.epoch = epoch\n",
    "\n",
    "    def fit(self,x_train,y_train):\n",
    "        self.b = 0\n",
    "        self.m = np.ones(x_train.shape[1])\n",
    "\n",
    "        for i in range(self.epoch):\n",
    "            for j in range(int(x_train.shape[0]/self.batch_size)):\n",
    "                k = rand.sample(range(x_train.shape[0]),self.batch_size)\n",
    "                y_hat = np.dot(x_train[k],self.m)+self.b\n",
    "                b_slope = -2 * np.mean(y_train[k]-y_hat)\n",
    "                self.b = self.b - self.lr*b_slope\n",
    "                m_slope = -2 * np.dot(y_train[k]-y_hat,x_train[k])\n",
    "                self.m = self.b - self.lr*m_slope\n",
    "        \n",
    "        print(self.b,self.m)\n",
    "\n",
    "    def predict(self,x_test):\n",
    "        return np.dot(x_test,self.m)+self.b\n",
    "        "
   ]
  },
  {
   "cell_type": "code",
   "execution_count": 51,
   "metadata": {},
   "outputs": [
    {
     "name": "stdout",
     "output_type": "stream",
     "text": [
      "156.72631706022258 [156.7396995  156.39535364 162.04167153 159.63170565 156.20913414\n",
      " 156.12261661 155.10615901 157.19104416 158.73361915 157.43046604]\n"
     ]
    }
   ],
   "source": [
    "mini = MyMiniBatchGD(mini_batch=int(x_train.shape[0]/20),lr=0.05,epoch=100)\n",
    "mini.fit(x_train,y_train)\n",
    "y_pred = mini.predict(x_test)"
   ]
  },
  {
   "cell_type": "code",
   "execution_count": 52,
   "metadata": {},
   "outputs": [
    {
     "name": "stdout",
     "output_type": "stream",
     "text": [
      "m = [156.7396995  156.39535364 162.04167153 159.63170565 156.20913414\n",
      " 156.12261661 155.10615901 157.19104416 158.73361915 157.43046604]\n",
      "b = 156.72631706022258\n"
     ]
    }
   ],
   "source": [
    "print(\"m =\",mini.m)\n",
    "print(\"b =\",mini.b)"
   ]
  },
  {
   "cell_type": "code",
   "execution_count": 53,
   "metadata": {},
   "outputs": [
    {
     "data": {
      "text/plain": [
       "0.18236523191974152"
      ]
     },
     "execution_count": 53,
     "metadata": {},
     "output_type": "execute_result"
    }
   ],
   "source": [
    "r2_score(y_test,y_pred)"
   ]
  },
  {
   "cell_type": "code",
   "execution_count": null,
   "metadata": {},
   "outputs": [],
   "source": []
  }
 ],
 "metadata": {
  "kernelspec": {
   "display_name": "base",
   "language": "python",
   "name": "python3"
  },
  "language_info": {
   "codemirror_mode": {
    "name": "ipython",
    "version": 3
   },
   "file_extension": ".py",
   "mimetype": "text/x-python",
   "name": "python",
   "nbconvert_exporter": "python",
   "pygments_lexer": "ipython3",
   "version": "3.11.4"
  }
 },
 "nbformat": 4,
 "nbformat_minor": 2
}
