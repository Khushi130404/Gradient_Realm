{
 "cells": [
  {
   "cell_type": "code",
   "execution_count": 1,
   "metadata": {},
   "outputs": [],
   "source": [
    "import numpy as np\n",
    "from sklearn.model_selection import train_test_split\n",
    "from sklearn.linear_model import LinearRegression\n",
    "from sklearn.metrics import r2_score\n",
    "from sklearn.datasets import load_diabetes"
   ]
  },
  {
   "cell_type": "code",
   "execution_count": 2,
   "metadata": {},
   "outputs": [],
   "source": [
    "x,y = load_diabetes(return_X_y=True)"
   ]
  },
  {
   "cell_type": "code",
   "execution_count": 4,
   "metadata": {},
   "outputs": [
    {
     "name": "stdout",
     "output_type": "stream",
     "text": [
      "X_Shape = (442, 10)\n",
      "Y_Shape = (442,)\n"
     ]
    }
   ],
   "source": [
    "print(\"X_Shape =\",x.shape)\n",
    "print(\"Y_Shape =\",y.shape)"
   ]
  },
  {
   "cell_type": "code",
   "execution_count": 5,
   "metadata": {},
   "outputs": [],
   "source": [
    "x_train,x_test,y_train,y_test = train_test_split(x,y,test_size=0.2,random_state=2)"
   ]
  },
  {
   "cell_type": "code",
   "execution_count": 6,
   "metadata": {},
   "outputs": [
    {
     "name": "stdout",
     "output_type": "stream",
     "text": [
      "X_train_Shape = (353, 10)\n",
      "Y_train_Shape = (353,)\n",
      "X_test_Shape = (89, 10)\n",
      "Y_test_Shape = (89,)\n"
     ]
    }
   ],
   "source": [
    "print(\"X_train_Shape =\",x_train.shape)\n",
    "print(\"Y_train_Shape =\",y_train.shape)\n",
    "print(\"X_test_Shape =\",x_test.shape)\n",
    "print(\"Y_test_Shape =\",y_test.shape)"
   ]
  },
  {
   "cell_type": "code",
   "execution_count": 7,
   "metadata": {},
   "outputs": [
    {
     "data": {
      "text/plain": [
       "0.4399338661568969"
      ]
     },
     "execution_count": 7,
     "metadata": {},
     "output_type": "execute_result"
    }
   ],
   "source": [
    "li = LinearRegression()\n",
    "li.fit(x_train,y_train)\n",
    "y_pred = li.predict(x_test)\n",
    "r2_score(y_test,y_pred)"
   ]
  },
  {
   "cell_type": "code",
   "execution_count": 8,
   "metadata": {},
   "outputs": [
    {
     "name": "stdout",
     "output_type": "stream",
     "text": [
      "m = [  -9.15865318 -205.45432163  516.69374454  340.61999905 -895.5520019\n",
      "  561.22067904  153.89310954  126.73139688  861.12700152   52.42112238]\n",
      "b = 151.88331005254167\n"
     ]
    }
   ],
   "source": [
    "print(\"m =\",li.coef_)\n",
    "print(\"b =\",li.intercept_)"
   ]
  },
  {
   "cell_type": "code",
   "execution_count": 9,
   "metadata": {},
   "outputs": [],
   "source": [
    "class MyBatchGD:\n",
    "\n",
    "    def __init__(self,lr=0.01,epoch=100):\n",
    "        self.m = None\n",
    "        self.b = None\n",
    "        self.lr = lr\n",
    "        self.epoch = epoch\n",
    "\n",
    "    def fit(self,x_train,y_train):\n",
    "        self.b = 0\n",
    "        self.m = np.ones(x_train.shape[1])\n",
    "\n",
    "        for i in range(self.epoch):\n",
    "            y_hat = np.dot(x_train,self.m)+self.b\n",
    "            b_slope = -2*np.mean(y_train-y_hat)\n",
    "            self.b -= self.lr*b_slope\n",
    "            m_slope = -2*np.dot(y_train-y_hat,x_train)/x_train.shape[0]\n",
    "            self.m -= self.lr*m_slope\n",
    "\n",
    "        print(\"b =\",self.b)\n",
    "        print(\"m =\",self.m)\n",
    "    \n",
    "    def predic(self,x_test):\n",
    "        return np.dot(x_test,self.m)+self.b        "
   ]
  },
  {
   "cell_type": "code",
   "execution_count": 14,
   "metadata": {},
   "outputs": [
    {
     "name": "stdout",
     "output_type": "stream",
     "text": [
      "b = 152.1124536947972\n",
      "m = [  52.54762224  -79.40819375  371.70817708  260.44192982   10.57659065\n",
      "  -39.72663693 -178.23281737  128.51448579  336.87309872  128.78378765]\n"
     ]
    },
    {
     "data": {
      "text/plain": [
       "0.439323583803228"
      ]
     },
     "execution_count": 14,
     "metadata": {},
     "output_type": "execute_result"
    }
   ],
   "source": [
    "mbgd = MyBatchGD(0.2,1000)\n",
    "mbgd.fit(x_train,y_train)\n",
    "y_pred = mbgd.predic(x_test)\n",
    "r2_score(y_test,y_pred)"
   ]
  },
  {
   "cell_type": "code",
   "execution_count": null,
   "metadata": {},
   "outputs": [],
   "source": []
  }
 ],
 "metadata": {
  "kernelspec": {
   "display_name": "base",
   "language": "python",
   "name": "python3"
  },
  "language_info": {
   "codemirror_mode": {
    "name": "ipython",
    "version": 3
   },
   "file_extension": ".py",
   "mimetype": "text/x-python",
   "name": "python",
   "nbconvert_exporter": "python",
   "pygments_lexer": "ipython3",
   "version": "3.11.4"
  }
 },
 "nbformat": 4,
 "nbformat_minor": 2
}
