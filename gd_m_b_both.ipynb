{
 "cells": [
  {
   "cell_type": "code",
   "execution_count": 9,
   "metadata": {},
   "outputs": [],
   "source": [
    "import numpy as np\n",
    "import matplotlib.pyplot as plt\n",
    "from sklearn.model_selection import train_test_split\n",
    "from sklearn.linear_model import LinearRegression\n",
    "from sklearn.metrics import r2_score\n",
    "from sklearn.datasets import make_regression"
   ]
  },
  {
   "cell_type": "code",
   "execution_count": 3,
   "metadata": {},
   "outputs": [],
   "source": [
    "x,y = make_regression(n_samples=100,n_features=1,n_targets=1,noise=20,n_informative=1,random_state=13)"
   ]
  },
  {
   "cell_type": "code",
   "execution_count": 5,
   "metadata": {},
   "outputs": [
    {
     "name": "stdout",
     "output_type": "stream",
     "text": [
      "x = (100, 1)\n",
      "y = (100,)\n"
     ]
    }
   ],
   "source": [
    "print(\"x =\",x.shape)\n",
    "print(\"y =\",y.shape)"
   ]
  },
  {
   "cell_type": "code",
   "execution_count": 7,
   "metadata": {},
   "outputs": [],
   "source": [
    "x_train,x_test,y_train,y_test = train_test_split(x,y,test_size=0.2,random_state=2)"
   ]
  },
  {
   "cell_type": "code",
   "execution_count": 8,
   "metadata": {},
   "outputs": [
    {
     "data": {
      "text/plain": [
       "<matplotlib.collections.PathCollection at 0x296f72bfa50>"
      ]
     },
     "execution_count": 8,
     "metadata": {},
     "output_type": "execute_result"
    },
    {
     "data": {
      "image/png": "[encoded data removed]",
      "text/plain": [
       "<Figure size 640x480 with 1 Axes>"
      ]
     },
     "metadata": {},
     "output_type": "display_data"
    }
   ],
   "source": [
    "plt.scatter(x_train,y_train)"
   ]
  },
  {
   "cell_type": "code",
   "execution_count": 10,
   "metadata": {},
   "outputs": [
    {
     "name": "stdout",
     "output_type": "stream",
     "text": [
      "m = [28.12597332]\n",
      "b = -2.2710144261783816\n"
     ]
    }
   ],
   "source": [
    "li = LinearRegression()\n",
    "li.fit(x_train,y_train)\n",
    "print(\"m =\",li.coef_)\n",
    "print(\"b =\",li.intercept_)"
   ]
  },
  {
   "cell_type": "code",
   "execution_count": 11,
   "metadata": {},
   "outputs": [
    {
     "data": {
      "text/plain": [
       "0.6345158782661013"
      ]
     },
     "execution_count": 11,
     "metadata": {},
     "output_type": "execute_result"
    }
   ],
   "source": [
    "y_pred = li.predict(x_test)\n",
    "r2_score(y_test,y_pred)"
   ]
  },
  {
   "cell_type": "code",
   "execution_count": 16,
   "metadata": {},
   "outputs": [],
   "source": [
    "class My_GDRegression:\n",
    "\n",
    "    def __init__(self,lr,epoch):\n",
    "        self.m = 100\n",
    "        self.b = -120\n",
    "        self.lr = lr\n",
    "        self.epoch = epoch\n",
    "\n",
    "    def fit(self,x,y):\n",
    "        for i in range(self.epoch):\n",
    "            b_slope = -2 * np.sum(y-self.m*x.ravel()-self.b)\n",
    "            m_slope = -2 * np.sum((y-self.m*x.ravel()-self.b)*x.ravel())\n",
    "            \n",
    "            b_stepsize = self.lr*b_slope\n",
    "            m_stepsize = self.lr*m_slope\n",
    "\n",
    "            self.b -= b_stepsize\n",
    "            self.m -= m_stepsize\n",
    "        \n",
    "        print(self.m,self.b)\n",
    "\n",
    "    def predict(self,x_test):\n",
    "        return self.m*x_test+self.b"
   ]
  },
  {
   "cell_type": "code",
   "execution_count": 17,
   "metadata": {},
   "outputs": [
    {
     "name": "stdout",
     "output_type": "stream",
     "text": [
      "28.12597331513561 -2.271014426178381\n"
     ]
    }
   ],
   "source": [
    "gd = My_GDRegression(0.01,100)\n",
    "gd.fit(x_train,y_train)\n",
    "y_pred = gd.predict(x_test)"
   ]
  },
  {
   "cell_type": "code",
   "execution_count": 18,
   "metadata": {},
   "outputs": [
    {
     "data": {
      "text/plain": [
       "0.6345158782661013"
      ]
     },
     "execution_count": 18,
     "metadata": {},
     "output_type": "execute_result"
    }
   ],
   "source": [
    "r2_score(y_test,y_pred)"
   ]
  },
  {
   "cell_type": "code",
   "execution_count": null,
   "metadata": {},
   "outputs": [],
   "source": []
  }
 ],
 "metadata": {
  "kernelspec": {
   "display_name": "base",
   "language": "python",
   "name": "python3"
  },
  "language_info": {
   "codemirror_mode": {
    "name": "ipython",
    "version": 3
   },
   "file_extension": ".py",
   "mimetype": "text/x-python",
   "name": "python",
   "nbconvert_exporter": "python",
   "pygments_lexer": "ipython3",
   "version": "3.11.4"
  }
 },
 "nbformat": 4,
 "nbformat_minor": 2
}
