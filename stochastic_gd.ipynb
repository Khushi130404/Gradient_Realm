{
 "cells": [
  {
   "cell_type": "code",
   "execution_count": 1,
   "metadata": {},
   "outputs": [
    {
     "name": "stderr",
     "output_type": "stream",
     "text": [
      "c:\\Users\\Khushi\\anaconda3\\Lib\\site-packages\\pandas\\core\\arrays\\masked.py:60: UserWarning: Pandas requires version '1.3.6' or newer of 'bottleneck' (version '1.3.5' currently installed).\n",
      "  from pandas.core import (\n"
     ]
    }
   ],
   "source": [
    "import numpy as np\n",
    "from sklearn.model_selection import train_test_split\n",
    "from sklearn.linear_model import LinearRegression\n",
    "from sklearn.metrics import r2_score\n",
    "from sklearn.datasets import load_diabetes\n",
    "import random as rand"
   ]
  },
  {
   "cell_type": "code",
   "execution_count": 2,
   "metadata": {},
   "outputs": [],
   "source": [
    "x,y = load_diabetes(return_X_y=True)"
   ]
  },
  {
   "cell_type": "code",
   "execution_count": 3,
   "metadata": {},
   "outputs": [
    {
     "name": "stdout",
     "output_type": "stream",
     "text": [
      "X_Shape = (442, 10)\n",
      "Y_Shape = (442,)\n"
     ]
    }
   ],
   "source": [
    "print(\"X_Shape =\",x.shape)\n",
    "print(\"Y_Shape =\",y.shape)"
   ]
  },
  {
   "cell_type": "code",
   "execution_count": 4,
   "metadata": {},
   "outputs": [],
   "source": [
    "x_train,x_test,y_train,y_test = train_test_split(x,y,test_size=0.2,random_state=2)"
   ]
  },
  {
   "cell_type": "code",
   "execution_count": 5,
   "metadata": {},
   "outputs": [
    {
     "name": "stdout",
     "output_type": "stream",
     "text": [
      "X_train_Shape = (353, 10)\n",
      "Y_train_Shape = (353,)\n",
      "X_test_Shape = (89, 10)\n",
      "Y_test_Shape = (89,)\n"
     ]
    }
   ],
   "source": [
    "print(\"X_train_Shape =\",x_train.shape)\n",
    "print(\"Y_train_Shape =\",y_train.shape)\n",
    "print(\"X_test_Shape =\",x_test.shape)\n",
    "print(\"Y_test_Shape =\",y_test.shape)"
   ]
  },
  {
   "cell_type": "code",
   "execution_count": 6,
   "metadata": {},
   "outputs": [
    {
     "data": {
      "text/plain": [
       "0.4399338661568969"
      ]
     },
     "execution_count": 6,
     "metadata": {},
     "output_type": "execute_result"
    }
   ],
   "source": [
    "li = LinearRegression()\n",
    "li.fit(x_train,y_train)\n",
    "y_pred = li.predict(x_test)\n",
    "r2_score(y_test,y_pred)"
   ]
  },
  {
   "cell_type": "code",
   "execution_count": 7,
   "metadata": {},
   "outputs": [
    {
     "name": "stdout",
     "output_type": "stream",
     "text": [
      "m = [  -9.15865318 -205.45432163  516.69374454  340.61999905 -895.5520019\n",
      "  561.22067904  153.89310954  126.73139688  861.12700152   52.42112238]\n",
      "b = 151.88331005254167\n"
     ]
    }
   ],
   "source": [
    "print(\"m =\",li.coef_)\n",
    "print(\"b =\",li.intercept_)"
   ]
  },
  {
   "cell_type": "code",
   "execution_count": 8,
   "metadata": {},
   "outputs": [],
   "source": [
    "class MyStochasticGD:\n",
    "\n",
    "    def __init__(self,lr=0.01,epoch=100):\n",
    "        self.m = None\n",
    "        self.b = None\n",
    "        self.lr = lr\n",
    "        self.epoch = epoch\n",
    "\n",
    "    def fit(self,x_train,y_train):\n",
    "        self.b = 0\n",
    "        self.m = np.ones(x_train.shape[1])\n",
    "\n",
    "        for i in range(self.epoch):\n",
    "            for j in range(x_train.shape[0]):\n",
    "                k = np.random.randint(0,x_train.shape[0])\n",
    "                y_hat = np.dot(x_train[k],self.m)+self.b\n",
    "                b_slope = -2*(y_train[k]-y_hat)\n",
    "                self.b -= self.lr*b_slope\n",
    "                m_slope = -2*np.dot(y_train[k]-y_hat,x_train[k])\n",
    "                self.m -= self.lr*m_slope\n",
    "                \n",
    "        print(\"b =\",self.b)\n",
    "        print(\"m =\",self.m)\n",
    "    \n",
    "    def predic(self,x_test):\n",
    "        return np.dot(x_test,self.m)+self.b        "
   ]
  },
  {
   "cell_type": "code",
   "execution_count": 16,
   "metadata": {},
   "outputs": [
    {
     "name": "stdout",
     "output_type": "stream",
     "text": [
      "b = 160.85087352993753\n",
      "m = [  -3.8474736  -159.03263634  473.10932126  337.6517227   -19.7282367\n",
      " -103.47544232 -173.84456129   94.53281268  466.8683013    82.12740004]\n"
     ]
    },
    {
     "data": {
      "text/plain": [
       "0.43634826836007556"
      ]
     },
     "execution_count": 16,
     "metadata": {},
     "output_type": "execute_result"
    }
   ],
   "source": [
    "msgd = MyStochasticGD(0.1,15)\n",
    "msgd.fit(x_train,y_train)\n",
    "y_pred = msgd.predic(x_test)\n",
    "r2_score(y_test,y_pred)"
   ]
  },
  {
   "cell_type": "code",
   "execution_count": null,
   "metadata": {},
   "outputs": [],
   "source": []
  }
 ],
 "metadata": {
  "kernelspec": {
   "display_name": "base",
   "language": "python",
   "name": "python3"
  },
  "language_info": {
   "codemirror_mode": {
    "name": "ipython",
    "version": 3
   },
   "file_extension": ".py",
   "mimetype": "text/x-python",
   "name": "python",
   "nbconvert_exporter": "python",
   "pygments_lexer": "ipython3",
   "version": "3.11.4"
  }
 },
 "nbformat": 4,
 "nbformat_minor": 2
}
